{
 "cells": [
  {
   "cell_type": "code",
   "execution_count": 9,
   "metadata": {},
   "outputs": [],
   "source": [
    "import pandas as pd\n",
    "import matplotlib.pyplot as plt\n",
    "from sklearn.feature_extraction.text import CountVectorizer\n",
    "from sklearn.metrics.pairwise import cosine_similarity"
   ]
  },
  {
   "cell_type": "code",
   "execution_count": 27,
   "metadata": {},
   "outputs": [],
   "source": [
    "data = pd.read_csv('data/data-giantbomb.csv').drop(['Unnamed: 0','Description'], axis=1)"
   ]
  },
  {
   "cell_type": "code",
   "execution_count": 28,
   "metadata": {},
   "outputs": [
    {
     "data": {
      "text/html": [
       "<div>\n",
       "<style scoped>\n",
       "    .dataframe tbody tr th:only-of-type {\n",
       "        vertical-align: middle;\n",
       "    }\n",
       "\n",
       "    .dataframe tbody tr th {\n",
       "        vertical-align: top;\n",
       "    }\n",
       "\n",
       "    .dataframe thead th {\n",
       "        text-align: right;\n",
       "    }\n",
       "</style>\n",
       "<table border=\"1\" class=\"dataframe\">\n",
       "  <thead>\n",
       "    <tr style=\"text-align: right;\">\n",
       "      <th></th>\n",
       "      <th>user_id</th>\n",
       "      <th>game_name</th>\n",
       "      <th>behavior</th>\n",
       "      <th>hours</th>\n",
       "      <th>Description[giantbomb]</th>\n",
       "    </tr>\n",
       "  </thead>\n",
       "  <tbody>\n",
       "    <tr>\n",
       "      <th>0</th>\n",
       "      <td>151603712</td>\n",
       "      <td>The Elder Scrolls V Skyrim</td>\n",
       "      <td>purchase</td>\n",
       "      <td>1.0</td>\n",
       "      <td>OverviewTaking place in the eponymous province...</td>\n",
       "    </tr>\n",
       "    <tr>\n",
       "      <th>1</th>\n",
       "      <td>151603712</td>\n",
       "      <td>The Elder Scrolls V Skyrim</td>\n",
       "      <td>play</td>\n",
       "      <td>273.0</td>\n",
       "      <td>OverviewTaking place in the eponymous province...</td>\n",
       "    </tr>\n",
       "    <tr>\n",
       "      <th>2</th>\n",
       "      <td>151603712</td>\n",
       "      <td>Fallout 4</td>\n",
       "      <td>purchase</td>\n",
       "      <td>1.0</td>\n",
       "      <td>OverviewFallout 4 is the fifth major installme...</td>\n",
       "    </tr>\n",
       "    <tr>\n",
       "      <th>3</th>\n",
       "      <td>151603712</td>\n",
       "      <td>Fallout 4</td>\n",
       "      <td>play</td>\n",
       "      <td>87.0</td>\n",
       "      <td>OverviewFallout 4 is the fifth major installme...</td>\n",
       "    </tr>\n",
       "    <tr>\n",
       "      <th>4</th>\n",
       "      <td>151603712</td>\n",
       "      <td>Spore</td>\n",
       "      <td>purchase</td>\n",
       "      <td>1.0</td>\n",
       "      <td>OverviewSpore is the latest game from the prod...</td>\n",
       "    </tr>\n",
       "    <tr>\n",
       "      <th>...</th>\n",
       "      <td>...</td>\n",
       "      <td>...</td>\n",
       "      <td>...</td>\n",
       "      <td>...</td>\n",
       "      <td>...</td>\n",
       "    </tr>\n",
       "    <tr>\n",
       "      <th>199995</th>\n",
       "      <td>128470551</td>\n",
       "      <td>Titan Souls</td>\n",
       "      <td>play</td>\n",
       "      <td>1.5</td>\n",
       "      <td>OverviewTitan Souls is a top down action game ...</td>\n",
       "    </tr>\n",
       "    <tr>\n",
       "      <th>199996</th>\n",
       "      <td>128470551</td>\n",
       "      <td>Grand Theft Auto Vice City</td>\n",
       "      <td>purchase</td>\n",
       "      <td>1.0</td>\n",
       "      <td>OverviewIn 2002, close on the heels of revolut...</td>\n",
       "    </tr>\n",
       "    <tr>\n",
       "      <th>199997</th>\n",
       "      <td>128470551</td>\n",
       "      <td>Grand Theft Auto Vice City</td>\n",
       "      <td>play</td>\n",
       "      <td>1.5</td>\n",
       "      <td>OverviewIn 2002, close on the heels of revolut...</td>\n",
       "    </tr>\n",
       "    <tr>\n",
       "      <th>199998</th>\n",
       "      <td>128470551</td>\n",
       "      <td>RUSH</td>\n",
       "      <td>purchase</td>\n",
       "      <td>1.0</td>\n",
       "      <td>The PlayStation 4 version launched as \"Rush VR...</td>\n",
       "    </tr>\n",
       "    <tr>\n",
       "      <th>199999</th>\n",
       "      <td>128470551</td>\n",
       "      <td>RUSH</td>\n",
       "      <td>play</td>\n",
       "      <td>1.4</td>\n",
       "      <td>The PlayStation 4 version launched as \"Rush VR...</td>\n",
       "    </tr>\n",
       "  </tbody>\n",
       "</table>\n",
       "<p>200000 rows × 5 columns</p>\n",
       "</div>"
      ],
      "text/plain": [
       "          user_id                   game_name  behavior  hours   \n",
       "0       151603712  The Elder Scrolls V Skyrim  purchase    1.0  \\\n",
       "1       151603712  The Elder Scrolls V Skyrim      play  273.0   \n",
       "2       151603712                   Fallout 4  purchase    1.0   \n",
       "3       151603712                   Fallout 4      play   87.0   \n",
       "4       151603712                       Spore  purchase    1.0   \n",
       "...           ...                         ...       ...    ...   \n",
       "199995  128470551                 Titan Souls      play    1.5   \n",
       "199996  128470551  Grand Theft Auto Vice City  purchase    1.0   \n",
       "199997  128470551  Grand Theft Auto Vice City      play    1.5   \n",
       "199998  128470551                        RUSH  purchase    1.0   \n",
       "199999  128470551                        RUSH      play    1.4   \n",
       "\n",
       "                                   Description[giantbomb]  \n",
       "0       OverviewTaking place in the eponymous province...  \n",
       "1       OverviewTaking place in the eponymous province...  \n",
       "2       OverviewFallout 4 is the fifth major installme...  \n",
       "3       OverviewFallout 4 is the fifth major installme...  \n",
       "4       OverviewSpore is the latest game from the prod...  \n",
       "...                                                   ...  \n",
       "199995  OverviewTitan Souls is a top down action game ...  \n",
       "199996  OverviewIn 2002, close on the heels of revolut...  \n",
       "199997  OverviewIn 2002, close on the heels of revolut...  \n",
       "199998  The PlayStation 4 version launched as \"Rush VR...  \n",
       "199999  The PlayStation 4 version launched as \"Rush VR...  \n",
       "\n",
       "[200000 rows x 5 columns]"
      ]
     },
     "execution_count": 28,
     "metadata": {},
     "output_type": "execute_result"
    }
   ],
   "source": [
    "data"
   ]
  },
  {
   "cell_type": "code",
   "execution_count": 5,
   "metadata": {},
   "outputs": [
    {
     "data": {
      "text/plain": [
       "12393"
      ]
     },
     "execution_count": 5,
     "metadata": {},
     "output_type": "execute_result"
    }
   ],
   "source": [
    "#Unique users\n",
    "len(data.user_id.unique())"
   ]
  },
  {
   "cell_type": "code",
   "execution_count": 20,
   "metadata": {},
   "outputs": [
    {
     "data": {
      "text/plain": [
       "Text(0, 0.5, 'Entry Count')"
      ]
     },
     "execution_count": 20,
     "metadata": {},
     "output_type": "execute_result"
    },
    {
     "data": {
      "image/png": "[encoded data removed]",
      "text/plain": [
       "<Figure size 640x480 with 1 Axes>"
      ]
     },
     "metadata": {},
     "output_type": "display_data"
    }
   ],
   "source": [
    "# Top 10 users by movie played\n",
    "top_user = data.groupby('user_id').size().nlargest(10)\n",
    "top_user.plot.bar()\n",
    "plt.title('Top 10 Users by Entry Count')\n",
    "plt.xlabel('User ID')\n",
    "plt.ylabel('Entry Count')"
   ]
  },
  {
   "cell_type": "code",
   "execution_count": 18,
   "metadata": {},
   "outputs": [
    {
     "data": {
      "text/plain": [
       "Index([ 62990992,  33865373,  11403772,  30246419,  47457723,  58345543,\n",
       "        22301321,  49893565, 138941587,  64787956],\n",
       "      dtype='int64', name='user_id')"
      ]
     },
     "execution_count": 18,
     "metadata": {},
     "output_type": "execute_result"
    }
   ],
   "source": [
    "top_user.index"
   ]
  },
  {
   "cell_type": "code",
   "execution_count": null,
   "metadata": {},
   "outputs": [],
   "source": [
    "# Preprocess data\n",
    "data['hours_played'] = data.apply(lambda row: row['hours'] if row['behavior']=='played' else 1, axis=1)\n",
    "features = ['game_name', 'hours', 'description']\n",
    "X = data[features]\n",
    "\n",
    "# Build item profiles\n",
    "vectorizer = CountVectorizer()\n",
    "item_profiles = vectorizer.fit_transform(X['description'].fillna(''))\n",
    "\n",
    "# Build user profiles\n",
    "user_id = 'user_1'\n",
    "user_data = data[data['user_id']==user_id]\n",
    "user_profile = user_data.groupby(['game_name']).agg({'hours_played': 'sum'})\n",
    "user_profile = vectorizer.transform(user_profile.index)\n",
    "\n",
    "# Calculate similarity between items and users\n",
    "cosine_similarities = cosine_similarity(user_profile, item_profiles).flatten()\n",
    "recommended_indices = cosine_similarities.argsort()[::-1][:10]\n",
    "recommended_games = X.iloc[recommended_indices]\n",
    "\n",
    "print(recommended_games['game_name'])"
   ]
  }
 ],
 "metadata": {
  "kernelspec": {
   "display_name": "venv",
   "language": "python",
   "name": "python3"
  },
  "language_info": {
   "codemirror_mode": {
    "name": "ipython",
    "version": 3
   },
   "file_extension": ".py",
   "mimetype": "text/x-python",
   "name": "python",
   "nbconvert_exporter": "python",
   "pygments_lexer": "ipython3",
   "version": "3.10.9"
  },
  "orig_nbformat": 4
 },
 "nbformat": 4,
 "nbformat_minor": 2
}
