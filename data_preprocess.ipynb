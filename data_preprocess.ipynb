{
 "cells": [
  {
   "attachments": {},
   "cell_type": "markdown",
   "metadata": {},
   "source": [
    "### Data Preprocessing"
   ]
  },
  {
   "cell_type": "code",
   "execution_count": 3,
   "metadata": {},
   "outputs": [],
   "source": [
    "import pandas as pd"
   ]
  },
  {
   "cell_type": "code",
   "execution_count": 62,
   "metadata": {},
   "outputs": [
    {
     "data": {
      "text/plain": [
       "5155"
      ]
     },
     "execution_count": 62,
     "metadata": {},
     "output_type": "execute_result"
    }
   ],
   "source": [
    "raw_data = pd.read_csv('data/steam-200k.csv', names=['user_id', 'game_name', 'behavior', 'hours','Description'])#.sample(10)\n",
    "len(raw_data.game_name.unique())"
   ]
  },
  {
   "cell_type": "code",
   "execution_count": 63,
   "metadata": {},
   "outputs": [
    {
     "data": {
      "text/plain": [
       "129511"
      ]
     },
     "execution_count": 63,
     "metadata": {},
     "output_type": "execute_result"
    }
   ],
   "source": [
    "len(raw_data[raw_data['behavior']=='purchase'])"
   ]
  },
  {
   "cell_type": "code",
   "execution_count": 64,
   "metadata": {},
   "outputs": [
    {
     "data": {
      "text/plain": [
       "70489"
      ]
     },
     "execution_count": 64,
     "metadata": {},
     "output_type": "execute_result"
    }
   ],
   "source": [
    "len(raw_data[raw_data['behavior']=='play'])"
   ]
  },
  {
   "cell_type": "code",
   "execution_count": 65,
   "metadata": {},
   "outputs": [
    {
     "data": {
      "text/plain": [
       "Index(['user_id', 'game_name', 'behavior', 'hours', 'Description'], dtype='object')"
      ]
     },
     "execution_count": 65,
     "metadata": {},
     "output_type": "execute_result"
    }
   ],
   "source": [
    "raw_data.columns"
   ]
  },
  {
   "cell_type": "code",
   "execution_count": 66,
   "metadata": {},
   "outputs": [
    {
     "data": {
      "text/plain": [
       "(200000, 5)"
      ]
     },
     "execution_count": 66,
     "metadata": {},
     "output_type": "execute_result"
    }
   ],
   "source": [
    "raw_data.shape"
   ]
  },
  {
   "cell_type": "code",
   "execution_count": 67,
   "metadata": {},
   "outputs": [
    {
     "data": {
      "text/plain": [
       "1         The Elder Scrolls V Skyrim\n",
       "3                          Fallout 4\n",
       "5                              Spore\n",
       "7                  Fallout New Vegas\n",
       "9                      Left 4 Dead 2\n",
       "                     ...            \n",
       "199991                  Fallen Earth\n",
       "199993                   Magic Duels\n",
       "199995                   Titan Souls\n",
       "199997    Grand Theft Auto Vice City\n",
       "199999                          RUSH\n",
       "Name: game_name, Length: 70489, dtype: object"
      ]
     },
     "execution_count": 67,
     "metadata": {},
     "output_type": "execute_result"
    }
   ],
   "source": [
    "raw_data[raw_data['behavior']==\"play\"]['game_name']"
   ]
  },
  {
   "cell_type": "code",
   "execution_count": 68,
   "metadata": {},
   "outputs": [
    {
     "data": {
      "text/plain": [
       "3600"
      ]
     },
     "execution_count": 68,
     "metadata": {},
     "output_type": "execute_result"
    }
   ],
   "source": [
    "#played but not purchased\n",
    "played_df = raw_data[(raw_data[\"behavior\"] == \"play\") & (raw_data[\"hours\"] > 0) & (raw_data[\"hours\"].notnull())]\n",
    "played_df[\"game_name\"].nunique()\n"
   ]
  },
  {
   "attachments": {},
   "cell_type": "markdown",
   "metadata": {},
   "source": [
    "#### Adding game description for content based game"
   ]
  },
  {
   "cell_type": "code",
   "execution_count": 69,
   "metadata": {},
   "outputs": [],
   "source": [
    "import requests\n",
    "import json\n",
    "import re\n",
    "\n",
    "# raw_data = pd.read_csv('data/steam-200k.csv', names=['user_id', 'game_name', 'behavior', 'hours','Description'])\n",
    "\n",
    "api_key = '612a9eda748984d9588049fdb563b6bb1776d6d0'\n",
    "def descriptionFetcher(game_name):\n",
    "    url = f'https://www.giantbomb.com/api/search/?api_key={api_key}&format=json&query={game_name}&resources=game'\n",
    "    response = requests.get(url,headers={\"User-Agent\": \"Mozilla/5.0\"})\n",
    "    if response.status_code == 200:\n",
    "        content = json.loads(response.text)\n",
    "\n",
    "        descriptions = \"\"\n",
    "\n",
    "        for result in content[\"results\"]:\n",
    "            if result[\"description\"] != None:\n",
    "                descriptions += result[\"description\"]\n",
    "        \n",
    "        #remove html tags\n",
    "        clean = re.compile('<.*?>')\n",
    "        descriptions = re.sub(clean, '', descriptions)\n",
    "        return descriptions\n",
    "    else:\n",
    "        print(response)"
   ]
  },
  {
   "cell_type": "code",
   "execution_count": 71,
   "metadata": {},
   "outputs": [
    {
     "name": "stdout",
     "output_type": "stream",
     "text": [
      "<Response [502]>\n",
      "<Response [502]>\n",
      "The Settlers 7 Paths to a Kingdom The Two Kings DLC #4\n",
      "<Response [502]>\n"
     ]
    }
   ],
   "source": [
    "unique_games = raw_data[\"game_name\"].unique()\n",
    "# raw_data['Description'] = raw_data['game_name'].apply(descriptionFetcher)\n",
    "game_info_dict = {}\n",
    "for game_name in unique_games:\n",
    "    try:\n",
    "        game_info = descriptionFetcher(game_name)\n",
    "        game_info_dict[game_name] = game_info\n",
    "    except:\n",
    "        print(game_name)\n",
    "raw_data[\"Description[giantbomb]\"] = raw_data[\"game_name\"].map(game_info_dict)"
   ]
  },
  {
   "cell_type": "code",
   "execution_count": null,
   "metadata": {},
   "outputs": [
    {
     "data": {
      "text/html": [
       "<div>\n",
       "<style scoped>\n",
       "    .dataframe tbody tr th:only-of-type {\n",
       "        vertical-align: middle;\n",
       "    }\n",
       "\n",
       "    .dataframe tbody tr th {\n",
       "        vertical-align: top;\n",
       "    }\n",
       "\n",
       "    .dataframe thead th {\n",
       "        text-align: right;\n",
       "    }\n",
       "</style>\n",
       "<table border=\"1\" class=\"dataframe\">\n",
       "  <thead>\n",
       "    <tr style=\"text-align: right;\">\n",
       "      <th></th>\n",
       "      <th>user_id</th>\n",
       "      <th>game_name</th>\n",
       "      <th>behavior</th>\n",
       "      <th>hours</th>\n",
       "      <th>Description</th>\n",
       "    </tr>\n",
       "  </thead>\n",
       "  <tbody>\n",
       "    <tr>\n",
       "      <th>161810</th>\n",
       "      <td>161623464</td>\n",
       "      <td>War Inc. Battlezone</td>\n",
       "      <td>purchase</td>\n",
       "      <td>1.0</td>\n",
       "      <td>System RequirementsMinimumOS: Windows XP SP3 o...</td>\n",
       "    </tr>\n",
       "    <tr>\n",
       "      <th>60107</th>\n",
       "      <td>66255019</td>\n",
       "      <td>Fallout New Vegas Dead Money</td>\n",
       "      <td>purchase</td>\n",
       "      <td>1.0</td>\n",
       "      <td>StoryThe Vit-O-Matic allows players to place t...</td>\n",
       "    </tr>\n",
       "    <tr>\n",
       "      <th>187142</th>\n",
       "      <td>126887624</td>\n",
       "      <td>Fallout New Vegas</td>\n",
       "      <td>play</td>\n",
       "      <td>0.5</td>\n",
       "      <td>StoryThe Vit-O-Matic allows players to place t...</td>\n",
       "    </tr>\n",
       "    <tr>\n",
       "      <th>70687</th>\n",
       "      <td>43955374</td>\n",
       "      <td>Terraria</td>\n",
       "      <td>play</td>\n",
       "      <td>144.0</td>\n",
       "      <td>OverviewTerraria is a 2D indie fantasy action-...</td>\n",
       "    </tr>\n",
       "    <tr>\n",
       "      <th>156199</th>\n",
       "      <td>205285563</td>\n",
       "      <td>Age of Empires III Complete Collection</td>\n",
       "      <td>play</td>\n",
       "      <td>3.1</td>\n",
       "      <td>OverviewReleased in 2005, Age of Empires III (...</td>\n",
       "    </tr>\n",
       "    <tr>\n",
       "      <th>166219</th>\n",
       "      <td>218317467</td>\n",
       "      <td>Saints Row 2</td>\n",
       "      <td>purchase</td>\n",
       "      <td>1.0</td>\n",
       "      <td>OverviewPlayers can cause large amounts of cha...</td>\n",
       "    </tr>\n",
       "    <tr>\n",
       "      <th>115543</th>\n",
       "      <td>88775181</td>\n",
       "      <td>Escape</td>\n",
       "      <td>play</td>\n",
       "      <td>0.5</td>\n",
       "      <td>Escape is a horror game developed and publishe...</td>\n",
       "    </tr>\n",
       "    <tr>\n",
       "      <th>164560</th>\n",
       "      <td>176354321</td>\n",
       "      <td>War Thunder</td>\n",
       "      <td>purchase</td>\n",
       "      <td>1.0</td>\n",
       "      <td>War Thunder is an MMO-style combat game about ...</td>\n",
       "    </tr>\n",
       "    <tr>\n",
       "      <th>91090</th>\n",
       "      <td>55334302</td>\n",
       "      <td>Total War SHOGUN 2</td>\n",
       "      <td>play</td>\n",
       "      <td>152.0</td>\n",
       "      <td>OverviewTotal War: Shogun 2 returns to Japan's...</td>\n",
       "    </tr>\n",
       "    <tr>\n",
       "      <th>80852</th>\n",
       "      <td>119619506</td>\n",
       "      <td>Infestation Survivor Stories</td>\n",
       "      <td>play</td>\n",
       "      <td>6.5</td>\n",
       "      <td>OverviewInfestation: Survivor Stories (formerl...</td>\n",
       "    </tr>\n",
       "  </tbody>\n",
       "</table>\n",
       "</div>"
      ],
      "text/plain": [
       "          user_id                               game_name  behavior  hours   \n",
       "161810  161623464                     War Inc. Battlezone  purchase    1.0  \\\n",
       "60107    66255019            Fallout New Vegas Dead Money  purchase    1.0   \n",
       "187142  126887624                       Fallout New Vegas      play    0.5   \n",
       "70687    43955374                                Terraria      play  144.0   \n",
       "156199  205285563  Age of Empires III Complete Collection      play    3.1   \n",
       "166219  218317467                            Saints Row 2  purchase    1.0   \n",
       "115543   88775181                                  Escape      play    0.5   \n",
       "164560  176354321                             War Thunder  purchase    1.0   \n",
       "91090    55334302                      Total War SHOGUN 2      play  152.0   \n",
       "80852   119619506            Infestation Survivor Stories      play    6.5   \n",
       "\n",
       "                                              Description  \n",
       "161810  System RequirementsMinimumOS: Windows XP SP3 o...  \n",
       "60107   StoryThe Vit-O-Matic allows players to place t...  \n",
       "187142  StoryThe Vit-O-Matic allows players to place t...  \n",
       "70687   OverviewTerraria is a 2D indie fantasy action-...  \n",
       "156199  OverviewReleased in 2005, Age of Empires III (...  \n",
       "166219  OverviewPlayers can cause large amounts of cha...  \n",
       "115543  Escape is a horror game developed and publishe...  \n",
       "164560  War Thunder is an MMO-style combat game about ...  \n",
       "91090   OverviewTotal War: Shogun 2 returns to Japan's...  \n",
       "80852   OverviewInfestation: Survivor Stories (formerl...  "
      ]
     },
     "execution_count": 61,
     "metadata": {},
     "output_type": "execute_result"
    }
   ],
   "source": [
    "raw_data.to_csv('data-Description-Giantbomb.csv')"
   ]
  },
  {
   "cell_type": "code",
   "execution_count": 14,
   "metadata": {},
   "outputs": [],
   "source": [
    "raw_data.to_csv('data.csv')"
   ]
  },
  {
   "attachments": {},
   "cell_type": "markdown",
   "metadata": {},
   "source": [
    "Wikipedia"
   ]
  },
  {
   "cell_type": "code",
   "execution_count": 48,
   "metadata": {},
   "outputs": [
    {
     "data": {
      "text/plain": [
       "'Revenge of the Titans is a tower defense/real-time strategy video game developed and published by Puppy Games. It was released for one of the five games included in the second Humble Indie Bundle in 2010. As a result of the success of the Humble Indie Bundle sale the source code of Revenge of the Titans was released. On March 16, 2011, the game was released on Steam.The game received positive reviews from critics, who commended its art style, gameplay, and writing.\\n\\n\\n== Gameplay ==\\n\\nRevenge of the Titans plays like a traditional tower defense game but with the caveat that enemies ignore or attempt to avoid the towers that you place, increasing the difficulty. The goal for each level is to prevent the command center from being destroyed by aliens by protecting it with turrets and other defenses. The player has access to extensive research trees that they can use to develop different types of defenses against enemies.In addition to the normal alien enemies, there are also large alien bosses that present a greater challenge and force the player to change strategies.The game is created in a style that combines retro pixel art with modern aesthetics.\\n\\n\\n== Plot ==\\nRevenge of the Titans is a direct sequel to Titan Attacks!. After successfully stopping an alien race from the moon Titan from destroying Earth via their spacecraft, the aliens return for revenge, launching an all-out ground invasion. The player is the unseen commander of a military force that must stop the new invasion and then deal with the alien threat once and for all, by decimating them on Titan itself.\\n\\n\\n== Development ==\\nThe game was initially slated to be released on PS3, PS4 and Vita by Curve Studios, but porting the game was deemed too difficult, and only Titan Attacks! was ported to consoles.\\n\\n\\n=== Music ===\\nThe soundtrack of Revenge of the Titans consists of six tracks. Each is a synthesized version of a classical music piece.\\n\\nMarch - Music for the Funeral of Queen Mary\\nFanfare – Fanfare for the Common Man\\nMars – Mars, the Bringer of War\\nEinleitung - initial fanfare from Also sprach Zarathustra (Strauss)\\nToccata - Toccata in D minor (Johann Sebastian Bach)\\nFugue - Fugue in D minor (Johann Sebastian Bach)\\n\\n\\n== Reception ==\\nRevenge of the Titans received positive reviews from critics, and has an aggregate review score of 79/100 on Metacritic.Emanuel Maiberg of GamePro scored the game 90/100, calling it a \"nearly perfect game\" with \"ingenious\" art direction and \"stellar\" writing, while also commending the game\\'s high level of difficulty.Alec Meer of Eurogamer praised the blend of RTS and tower defense genres in Titans, awarding it 8 out of 10.Nick Kolan of IGN scored the game 70/100, commending the game\\'s depth and cleverness, but criticizing the \"sharp difficulty curve\" and \"poor upgrade system\", which he claimed would limit the game\\'s \"mass appeal\".\\n\\n\\n== References ==\\n\\n\\n== External links ==\\nOfficial Site'"
      ]
     },
     "execution_count": 48,
     "metadata": {},
     "output_type": "execute_result"
    }
   ],
   "source": [
    "import wikipedia\n",
    "p=wikipedia.page('Revenge of the Titans')\n",
    "p.content"
   ]
  },
  {
   "cell_type": "code",
   "execution_count": 49,
   "metadata": {},
   "outputs": [
    {
     "name": "stderr",
     "output_type": "stream",
     "text": [
      "e:\\projects\\steam-video-game-recommendation\\venv\\lib\\site-packages\\wikipedia\\wikipedia.py:389: GuessedAtParserWarning: No parser was explicitly specified, so I'm using the best available HTML parser for this system (\"html.parser\"). This usually isn't a problem, but if you run this code on another system, or in a different virtual environment, it may use a different parser and behave differently.\n",
      "\n",
      "The code that caused this warning is on line 389 of the file e:\\projects\\steam-video-game-recommendation\\venv\\lib\\site-packages\\wikipedia\\wikipedia.py. To get rid of this warning, pass the additional argument 'features=\"html.parser\"' to the BeautifulSoup constructor.\n",
      "\n",
      "  lis = BeautifulSoup(html).find_all('li')\n"
     ]
    }
   ],
   "source": [
    "import wikipedia\n",
    "\n",
    "unique_games = raw_data[\"game_name\"].unique()\n",
    "\n",
    "# Define a function to get the game's wikipedia page and extract its content\n",
    "def get_game_info(game_name):\n",
    "    try:\n",
    "        page = wikipedia.page(game_name)\n",
    "        clean = re.compile('<.*?>')\n",
    "        description = re.sub(clean, '', page.content)\n",
    "        return description\n",
    "    except:\n",
    "        return \"\"\n",
    "\n",
    "# Apply the function to each row in the dataframe and store the results in a new column\n",
    "# raw_data[\"Description\"] = raw_data[\"game_name\"].apply(get_game_info)\n",
    "# Loop through the unique game names and store the corresponding information in a dictionary\n",
    "game_info_dict = {}\n",
    "for game_name in unique_games:\n",
    "    game_info = get_game_info(game_name)\n",
    "    game_info_dict[game_name] = game_info\n",
    "\n",
    "raw_data[\"Description\"] = raw_data[\"game_name\"].map(game_info_dict)"
   ]
  },
  {
   "cell_type": "code",
   "execution_count": 55,
   "metadata": {},
   "outputs": [
    {
     "data": {
      "text/plain": [
       "''"
      ]
     },
     "execution_count": 55,
     "metadata": {},
     "output_type": "execute_result"
    }
   ],
   "source": [
    "get_game_info(\"Alice Madness Returns\")"
   ]
  },
  {
   "cell_type": "code",
   "execution_count": 30,
   "metadata": {},
   "outputs": [
    {
     "data": {
      "text/plain": [
       "129511"
      ]
     },
     "execution_count": 30,
     "metadata": {},
     "output_type": "execute_result"
    }
   ],
   "source": [
    "len(raw_data[raw_data['behavior']=='purchase'])"
   ]
  },
  {
   "cell_type": "code",
   "execution_count": 73,
   "metadata": {},
   "outputs": [],
   "source": [
    "raw_data.to_csv('data-giantbomb.csv')"
   ]
  },
  {
   "cell_type": "code",
   "execution_count": null,
   "metadata": {},
   "outputs": [],
   "source": []
  }
 ],
 "metadata": {
  "kernelspec": {
   "display_name": "venv",
   "language": "python",
   "name": "python3"
  },
  "language_info": {
   "codemirror_mode": {
    "name": "ipython",
    "version": 3
   },
   "file_extension": ".py",
   "mimetype": "text/x-python",
   "name": "python",
   "nbconvert_exporter": "python",
   "pygments_lexer": "ipython3",
   "version": "3.10.9"
  },
  "orig_nbformat": 4
 },
 "nbformat": 4,
 "nbformat_minor": 2
}
